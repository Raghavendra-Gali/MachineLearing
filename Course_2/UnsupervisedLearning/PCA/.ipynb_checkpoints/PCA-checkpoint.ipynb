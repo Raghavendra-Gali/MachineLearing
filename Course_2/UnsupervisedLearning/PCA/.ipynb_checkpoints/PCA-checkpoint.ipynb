{
 "cells": [
  {
   "cell_type": "markdown",
   "metadata": {},
   "source": [
    "<h2>1) Using PCA to reduce the number of dimensions in Semi-Conductor Data</h2>\n",
    "<p>If there’s some flaw in the manufacturing process, we need to know as soon as possible, so\n",
    "    that precious time isn’t spent processing a flawed product. Some common engineering solutions find failed products, such as test early and test often. But some defects slip through.If machine learning techniques can be used to further reduce errors, it will save the manufacturer a lot of money.\n",
    "    Dataset:http://archive.ics.uci.edu/ml/datasets/SECOM\n",
    "    <ol>\n",
    "        <li>Handle the missing values in the data.</li>\n",
    "        <li>Create the Covariance Matrix for all the features in the data.</li>\n",
    "        <li>Calculate the Eigen Values and Eigen Vectors</li>\n",
    "        <li>Plot the amount of variance that is preserved across each principal component and try to figure out the optimal number of principal components that we can get.</li>\n",
    "        <li>Finally make a list of top 7 principal-components based values of their variances.</li>\n",
    "     </ol>\n",
    "        \n",
    " <h4>Load the data</h4>\n"
   ]
  },
  {
   "cell_type": "code",
   "execution_count": null,
   "metadata": {},
   "outputs": [],
   "source": [
    "import pandas as pd\n",
    "from "
   ]
  }
 ],
 "metadata": {
  "kernelspec": {
   "display_name": "Python 3",
   "language": "python",
   "name": "python3"
  },
  "language_info": {
   "codemirror_mode": {
    "name": "ipython",
    "version": 3
   },
   "file_extension": ".py",
   "mimetype": "text/x-python",
   "name": "python",
   "nbconvert_exporter": "python",
   "pygments_lexer": "ipython3",
   "version": "3.6.5"
  }
 },
 "nbformat": 4,
 "nbformat_minor": 2
}
