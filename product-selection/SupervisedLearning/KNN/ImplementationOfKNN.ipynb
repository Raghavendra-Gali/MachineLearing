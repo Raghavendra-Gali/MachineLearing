{
 "cells": [
  {
   "cell_type": "markdown",
   "metadata": {},
   "source": [
    "#Creating KNN class"
   ]
  },
  {
   "cell_type": "code",
   "execution_count": 1,
   "metadata": {},
   "outputs": [],
   "source": [
    "class KNN(object):\n",
    "  \n",
    "  def __init__(self,neighbors=None):\n",
    "    self.trainData_X = None\n",
    "    self.trainData_Y = None\n",
    "    self.neighbors = neighbors\n",
    "    \n",
    "  def fit(self,x,y):\n",
    "    self.trainData_X = x\n",
    "    self.trainData_Y = y\n",
    " \n",
    "  def min_max(self,x1,i):\n",
    "    mn = []\n",
    "    for i in range(len(X_train)):\n",
    "      j=len(X_train[i])\n",
    "      mn.append(X_train[i][j-1])\n",
    "    return min(mn),max(mn)\n",
    "  \n",
    "  def distances(self,x1,x2):\n",
    "    dis =[]\n",
    "    for i in range(len(x1)):\n",
    "      mn,mx = min_max(x1,i)\n",
    "      dis.append([(x1[i]-x2[i])/(mx-mn),trainData_Y[i]])\n",
    "    return dis\n",
    "  \n",
    "  def mode(self,lst):\n",
    "    mode = [None]\n",
    "    mx=0\n",
    "    for i in range(len(lst)):\n",
    "        c=0\n",
    "        for j in range(len(lst)):\n",
    "            if lst[i]==lst[j]:\n",
    "                c+=1\n",
    "        if mx<c:\n",
    "          if lst[i] in mode:\n",
    "            continue\n",
    "          else:\n",
    "            mode[0] = lst[i]\n",
    "          mx = c\n",
    "        elif mx==c:\n",
    "          if lst[i] in mode:\n",
    "            continue\n",
    "          else:\n",
    "            mode.append(lst[i])\n",
    "    if not mode[0]:\n",
    "        return lst\n",
    "    return mode\n",
    "\n",
    "  def predict(self,x_test,y_test):\n",
    "    if not self.neighbors:\n",
    "      self.neighbors=3\n",
    "    predictClass = []\n",
    "    for e in x_test:\n",
    "      distances = []\n",
    "      kClasses = []\n",
    "      #print(e)\n",
    "      for x_i in range(len(self.trainData_X)):\n",
    "        distances=distances(e,self.trainData_X[x_i])\n",
    "        print(x_i)\n",
    "        kneighbors = distances.sort()[:3]\n",
    "        kclasses = mode(kneighbors)\n",
    "      if len(kClasses)>=1:\n",
    "        predictClass.append(kClasses[0])\n",
    "    return predictClass"
   ]
  },
  {
   "cell_type": "code",
   "execution_count": null,
   "metadata": {},
   "outputs": [],
   "source": []
  }
 ],
 "metadata": {
  "kernelspec": {
   "display_name": "Python 3",
   "language": "python",
   "name": "python3"
  },
  "language_info": {
   "codemirror_mode": {
    "name": "ipython",
    "version": 3
   },
   "file_extension": ".py",
   "mimetype": "text/x-python",
   "name": "python",
   "nbconvert_exporter": "python",
   "pygments_lexer": "ipython3",
   "version": "3.6.5"
  }
 },
 "nbformat": 4,
 "nbformat_minor": 2
}
